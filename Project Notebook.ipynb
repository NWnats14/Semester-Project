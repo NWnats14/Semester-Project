{
 "cells": [
  {
   "cell_type": "markdown",
   "id": "9052ef4d",
   "metadata": {},
   "source": [
    "# Project "
   ]
  },
  {
   "cell_type": "markdown",
   "id": "af944c62",
   "metadata": {},
   "source": [
    "**Name**: Nick Wunderle"
   ]
  },
  {
   "cell_type": "markdown",
   "id": "de901dfb",
   "metadata": {},
   "source": [
    "For this project I have 6. The datasets come from the Bureau of Transportation Statistics. These datasets are reported airline delay information for Jan-Jun, 2023 with each month being an individual dataset.\n",
    "\n",
    "The BTS datasets have upwards of 40 attrtibutes which include information like date and time, airline, aircraft, origin city, destination city, delay times, taxi times, flight times. A lot of the attributes are categorical and include both ordinal and nominal values. Some are continous values that include both interval and ratio values. \n",
    "\n",
    "The attributes being used as class labels for predictions will be departure delay (either yes or no) and departure delay time (length of delay). The delay time will be binned for categorical label predictions. \n",
    "\n",
    "Each month is loaded into its own table and has 5000 instances. When combined there are 30000 total instances."
   ]
  },
  {
   "cell_type": "code",
   "execution_count": 1,
   "id": "1ac57668",
   "metadata": {},
   "outputs": [],
   "source": [
    "from data_table import *\n",
    "from data_util import *\n",
    "from data_learn import *\n",
    "from data_eval import *\n",
    "from data_tailor import *"
   ]
  },
  {
   "cell_type": "code",
   "execution_count": 2,
   "id": "7ea000e5",
   "metadata": {},
   "outputs": [],
   "source": [
    "jan_table = DataTable(['year','month','date','day','flight date', 'unique airline code', 'carrier code',\n",
    "                      'airline code', 'aircraft tail', 'flight number', 'origin airport id', 'airport seq', 'market id',\n",
    "                      'origin', 'origin city', 'origin state abv', 'origin state', 'dest airport id', 'dest airport seq',\n",
    "                      'dest market id', 'dest', 'dest city', 'dest state abv', 'dest state', 'scheduled dep',\n",
    "                      'actual dep', 'dep delay', 'dep delay new', 'delay','dep block', 'taxi out', 'wheels off',\n",
    "                      'wheels on', 'taxi in', 'scheduled arr', 'actual arr', 'arr delay', 'arr delay new', 'binary arr delay',\n",
    "                      'arr block', 'cancelled', 'scheduled block time', 'actual block time', 'flight time',\n",
    "                       'flights', 'distance'])\n",
    "jan_table.load('january_data1.csv')"
   ]
  },
  {
   "cell_type": "code",
   "execution_count": 3,
   "id": "35a19317",
   "metadata": {},
   "outputs": [
    {
     "name": "stdout",
     "output_type": "stream",
     "text": [
      "5001\n"
     ]
    }
   ],
   "source": [
    "print(jan_table.row_count())"
   ]
  },
  {
   "cell_type": "code",
   "execution_count": 4,
   "id": "de1ad510",
   "metadata": {},
   "outputs": [],
   "source": [
    "feb_table = DataTable(['year','month','date','day','flight date', 'unique airline code', 'carrier code',\n",
    "             'aircraft tail', 'flight number', 'origin airport id', 'airport seq', 'market id',\n",
    "             'origin', 'origin city', 'origin state abv', 'origin state', 'dest airport id', 'dest airport seq',\n",
    "             'dest market id', 'dest', 'dest city', 'dest state abv', 'dest state', 'scheduled dep',\n",
    "             'actual dep', 'dep delay', 'dep delay new', 'delay','dep block', 'taxi out', 'wheels off',\n",
    "             'wheels on', 'taxi in', 'scheduled arr', 'actual arr', 'arr delay', 'arr delay new', 'binary arr delay',\n",
    "             'cancelled', 'scheduled block time', 'actual block time', 'flight time',\n",
    "             'flights', 'distance'])\n",
    "feb_table.load('february_data1.csv')"
   ]
  },
  {
   "cell_type": "code",
   "execution_count": 5,
   "id": "adfa40d1",
   "metadata": {},
   "outputs": [
    {
     "name": "stdout",
     "output_type": "stream",
     "text": [
      "5001\n"
     ]
    }
   ],
   "source": [
    "print(feb_table.row_count())"
   ]
  },
  {
   "cell_type": "code",
   "execution_count": 6,
   "id": "eaf0120d",
   "metadata": {},
   "outputs": [],
   "source": [
    "march_table = DataTable(['year','month','date','day','flight date', 'unique airline code',\n",
    "             'aircraft tail', 'origin airport id', 'airport seq', 'market id',\n",
    "             'origin', 'origin city', 'origin state abv', 'origin state', 'dest airport id', 'dest airport seq',\n",
    "             'dest market id', 'dest', 'dest city', 'dest state abv', 'dest state', 'scheduled dep',\n",
    "             'actual dep', 'dep delay', 'dep delay new', 'delay', 'taxi out', 'wheels off',\n",
    "             'wheels on', 'taxi in', 'scheduled arr', 'actual arr', 'arr delay', 'arr delay new', 'binary arr delay',\n",
    "             'cancelled'])\n",
    "march_table.load('march_data1.csv')"
   ]
  },
  {
   "cell_type": "code",
   "execution_count": 7,
   "id": "c51ccf22",
   "metadata": {},
   "outputs": [
    {
     "name": "stdout",
     "output_type": "stream",
     "text": [
      "5001\n"
     ]
    }
   ],
   "source": [
    "print(march_table.row_count())"
   ]
  },
  {
   "cell_type": "code",
   "execution_count": 8,
   "id": "18d4620e",
   "metadata": {},
   "outputs": [],
   "source": [
    "april_table = DataTable(['year','month','date','day','flight date', 'unique airline code',\n",
    "             'aircraft tail', 'origin airport id', 'airport seq', 'market id',\n",
    "             'origin', 'origin city', 'origin state abv', 'origin state', 'dest airport id', 'dest airport seq',\n",
    "             'dest market id', 'dest', 'dest city', 'dest state abv', 'dest state', 'scheduled dep',\n",
    "             'actual dep', 'dep delay', 'dep delay new', 'delay', 'taxi out', 'wheels off',\n",
    "             'wheels on', 'taxi in', 'scheduled arr', 'actual arr', 'arr delay', 'arr delay new', 'binary arr delay',\n",
    "             'cancelled'])\n",
    "april_table.load('april_data1.csv')"
   ]
  },
  {
   "cell_type": "code",
   "execution_count": 9,
   "id": "2ecc5028",
   "metadata": {},
   "outputs": [
    {
     "name": "stdout",
     "output_type": "stream",
     "text": [
      "5001\n"
     ]
    }
   ],
   "source": [
    "print(april_table.row_count())"
   ]
  },
  {
   "cell_type": "code",
   "execution_count": 10,
   "id": "3012f9d4",
   "metadata": {},
   "outputs": [],
   "source": [
    "may_table = DataTable(['year','month','date','day','flight date', 'unique airline code',\n",
    "             'aircraft tail', 'origin airport id', 'airport seq', 'market id',\n",
    "             'origin', 'origin city', 'origin state abv', 'origin state', 'dest airport id', 'dest airport seq',\n",
    "             'dest market id', 'dest', 'dest city', 'dest state abv', 'dest state', 'scheduled dep',\n",
    "             'actual dep', 'dep delay', 'dep delay new', 'delay', 'taxi out', 'wheels off',\n",
    "             'wheels on', 'taxi in', 'scheduled arr', 'actual arr', 'arr delay', 'arr delay new', 'binary arr delay',\n",
    "             'cancelled'])\n",
    "may_table.load('may_data1.csv')"
   ]
  },
  {
   "cell_type": "code",
   "execution_count": 11,
   "id": "72f19853",
   "metadata": {},
   "outputs": [
    {
     "name": "stdout",
     "output_type": "stream",
     "text": [
      "5001\n"
     ]
    }
   ],
   "source": [
    "print(may_table.row_count())"
   ]
  },
  {
   "cell_type": "code",
   "execution_count": 12,
   "id": "8c918dca",
   "metadata": {},
   "outputs": [],
   "source": [
    "june_table = DataTable(['year','month','date','day','flight date', 'unique airline code',\n",
    "             'aircraft tail', 'origin airport id', 'airport seq', 'market id',\n",
    "             'origin', 'origin city', 'origin state abv', 'origin state', 'dest airport id', 'dest airport seq',\n",
    "             'dest market id', 'dest', 'dest city', 'dest state abv', 'dest state', 'scheduled dep',\n",
    "             'actual dep', 'dep delay', 'dep delay new', 'delay', 'taxi out', 'wheels off',\n",
    "             'wheels on', 'taxi in', 'scheduled arr', 'actual arr', 'arr delay', 'arr delay new', 'binary arr delay',\n",
    "             'cancelled'])\n",
    "june_table.load('june_data1.csv')"
   ]
  },
  {
   "cell_type": "code",
   "execution_count": 13,
   "id": "c7225ab9",
   "metadata": {},
   "outputs": [
    {
     "name": "stdout",
     "output_type": "stream",
     "text": [
      "5001\n"
     ]
    }
   ],
   "source": [
    "print(june_table.row_count())"
   ]
  },
  {
   "cell_type": "markdown",
   "id": "94627f19",
   "metadata": {},
   "source": [
    "# Cleaning and Training"
   ]
  },
  {
   "cell_type": "markdown",
   "id": "83df96b5",
   "metadata": {},
   "source": [
    "For cleaning the data, I will be removing a lot of attributes. Many of the attributes are redundant and do not need to be included. Missing data will likely just lead to a removal of the instance as I have such a large number of instances. My class labels are already binned into 2 categories and as such I do not need to discretize.\n",
    "\n",
    "I am planning to train my classifiers on day of week, airline code, origin, dest, scheduled dep. The reason for each of these is that different days of the week are busier than others in terms of volume of flights. Some airlines are more prone to delays than others. We also use origin and dest as some cities experience adverse weather more frequently which impacts delays. We also train on scheduled departure time as airlines are more incentivised to be on time earlier in the day which can help to indicate delays."
   ]
  },
  {
   "cell_type": "markdown",
   "id": "7065822d",
   "metadata": {},
   "source": [
    "In this first step, I am cleaning up some columns that are not in each month's data table and dropping them. They are attributes that were meant to be dropped anyway. Additionally, I am deleting the first instance of each table as it is the attributes themselves not actual data."
   ]
  },
  {
   "cell_type": "code",
   "execution_count": 14,
   "id": "72580400",
   "metadata": {},
   "outputs": [],
   "source": [
    "x=jan_table.columns()\n",
    "y=feb_table.columns()\n",
    "drop = list(set(x).difference(set(y)))\n",
    "jan_table.drop(drop)\n",
    "del jan_table[0]\n",
    "del feb_table[0]\n",
    "del march_table[0]\n",
    "del april_table[0]\n",
    "del may_table[0]\n",
    "del june_table[0]"
   ]
  },
  {
   "cell_type": "code",
   "execution_count": 15,
   "id": "3f1fc7d5",
   "metadata": {},
   "outputs": [],
   "source": [
    "x = feb_table.columns()\n",
    "y = march_table.columns()\n",
    "drop = list(set(x).difference(set(y)))\n",
    "feb_table.drop(drop)\n",
    "jan_table.drop(drop)"
   ]
  },
  {
   "cell_type": "code",
   "execution_count": 16,
   "id": "74a1aa41",
   "metadata": {},
   "outputs": [],
   "source": [
    "combine_table = jan_table.copy()"
   ]
  },
  {
   "cell_type": "markdown",
   "id": "9d13c359",
   "metadata": {},
   "source": [
    "Here I have taken the somewhat cleaned January table and am now adding the instances from each month to it."
   ]
  },
  {
   "cell_type": "code",
   "execution_count": 17,
   "id": "3688e73a",
   "metadata": {},
   "outputs": [],
   "source": [
    "for row in feb_table:\n",
    "    combine_table.append(row.values())\n",
    "for row in march_table:\n",
    "    combine_table.append(row.values())\n",
    "for row in april_table:\n",
    "    combine_table.append(row.values())\n",
    "for row in may_table:\n",
    "    combine_table.append(row.values())\n",
    "for row in june_table:\n",
    "    combine_table.append(row.values())"
   ]
  },
  {
   "cell_type": "markdown",
   "id": "ce580630",
   "metadata": {},
   "source": [
    "Now I am dropping the attributes that I will not be using."
   ]
  },
  {
   "cell_type": "code",
   "execution_count": 18,
   "id": "a0904050",
   "metadata": {},
   "outputs": [],
   "source": [
    "combine_table.drop(['year','date', 'aircraft tail', 'origin airport id', 'airport seq', 'market id',\n",
    "             'origin city', 'origin state abv', 'origin state', 'dest airport id', 'dest airport seq',\n",
    "             'dest market id', 'dest city', 'dest state abv', 'dest state',\n",
    "             'dep delay', 'taxi out', 'wheels off',\n",
    "             'wheels on', 'taxi in', 'scheduled arr', 'actual arr', 'arr delay', 'arr delay new', 'binary arr delay',\n",
    "             'cancelled'])"
   ]
  },
  {
   "cell_type": "markdown",
   "id": "78e5b658",
   "metadata": {},
   "source": [
    "Now I check for missing or irregular values in my label column."
   ]
  },
  {
   "cell_type": "code",
   "execution_count": 19,
   "id": "09e38a7c",
   "metadata": {},
   "outputs": [
    {
     "name": "stdout",
     "output_type": "stream",
     "text": [
      "30000\n",
      "[0, 1, '']\n",
      "[23074, 6414, 512]\n"
     ]
    }
   ],
   "source": [
    "print(combine_table.row_count())\n",
    "groups, counts = frequencies(combine_table, 'delay')\n",
    "print(groups)\n",
    "print(counts)"
   ]
  },
  {
   "cell_type": "markdown",
   "id": "0b52676a",
   "metadata": {},
   "source": [
    "I see that I only have missing values and since there are only 512 of them, I just remove them altogether."
   ]
  },
  {
   "cell_type": "code",
   "execution_count": 20,
   "id": "014b0e71",
   "metadata": {},
   "outputs": [
    {
     "name": "stdout",
     "output_type": "stream",
     "text": [
      "[0, 1]\n",
      "[23074, 6414]\n"
     ]
    }
   ],
   "source": [
    "new_table = DataTable(combine_table.columns())\n",
    "new_table = remove_missing(combine_table, ['delay'])\n",
    "groups, counts = frequencies(new_table, 'delay')\n",
    "print(groups)\n",
    "print(counts)"
   ]
  },
  {
   "cell_type": "markdown",
   "id": "80b9590f",
   "metadata": {},
   "source": [
    "Now that my table is cleaned, I create training and test sets using stratified holdout."
   ]
  },
  {
   "cell_type": "code",
   "execution_count": 21,
   "id": "abd5bc67",
   "metadata": {
    "scrolled": true
   },
   "outputs": [],
   "source": [
    "train,test=stratified_holdout(new_table, 'delay', .5*new_table.row_count())"
   ]
  },
  {
   "cell_type": "markdown",
   "id": "204c8363",
   "metadata": {},
   "source": [
    "## Visualization"
   ]
  },
  {
   "cell_type": "markdown",
   "id": "8171fbb2",
   "metadata": {},
   "source": [
    "Here I am including some visualizations to help see how often delays occur, or the distribution. The dot chart also helps us to see when flights are delayed, how often the delays are short or long. "
   ]
  },
  {
   "cell_type": "code",
   "execution_count": 22,
   "id": "4cd9da0d",
   "metadata": {},
   "outputs": [
    {
     "data": {
      "image/png": "[encoded data removed]",
      "text/plain": [
       "<Figure size 640x480 with 1 Axes>"
      ]
     },
     "metadata": {},
     "output_type": "display_data"
    }
   ],
   "source": [
    "histogram(new_table, 'dep delay new', 25, 'Length of Delay (binned)', 'Number of Delays', 'Number of Delays within a Range')"
   ]
  },
  {
   "cell_type": "markdown",
   "id": "c1510986",
   "metadata": {},
   "source": [
    "This histogram shows us approximately how many delays are of each length in minutes. It can be misleading as delays of length 0 (no delay) get binned with delays that are very short."
   ]
  },
  {
   "cell_type": "code",
   "execution_count": 23,
   "id": "20b83c64",
   "metadata": {},
   "outputs": [
    {
     "data": {
      "image/png": "[encoded data removed]",
      "text/plain": [
       "<Figure size 640x480 with 1 Axes>"
      ]
     },
     "metadata": {},
     "output_type": "display_data"
    }
   ],
   "source": [
    "labels1, counts1 = frequencies(new_table, 'dep delay new')\n",
    "dot_chart(labels1, 'Length of Delay', 'Frequency of Delay Lengths')"
   ]
  },
  {
   "cell_type": "markdown",
   "id": "065b9a9e",
   "metadata": {},
   "source": [
    "This dot chart helps us to better see the frequency of length of delays in minutes. There are clearly a lot of flights not delayed at all. Most of the delays that do occur also happen to be shorter in length for the most part."
   ]
  },
  {
   "cell_type": "code",
   "execution_count": 24,
   "id": "98900e1c",
   "metadata": {},
   "outputs": [
    {
     "data": {
      "image/png": "[encoded data removed]",
      "text/plain": [
       "<Figure size 800x800 with 1 Axes>"
      ]
     },
     "metadata": {},
     "output_type": "display_data"
    }
   ],
   "source": [
    "labels, counts = frequencies(new_table, 'delay')\n",
    "pie_chart(counts, labels, 'Comparison of Delay vs No Delay')"
   ]
  },
  {
   "cell_type": "markdown",
   "id": "8376da40",
   "metadata": {},
   "source": [
    "This pie chart shows the distribution of delay status. For our evaluation purposes, 0 is no delay and 1 is a delay."
   ]
  },
  {
   "cell_type": "markdown",
   "id": "8360dd3b",
   "metadata": {},
   "source": [
    "# Inital Evaluation"
   ]
  },
  {
   "cell_type": "markdown",
   "id": "3a5c539c",
   "metadata": {},
   "source": [
    "In this step, I will be implementing kNN and Naive Bayes using the train and test sets created above. I am using the single stratified holdout method as my classifiers take a long time to run and the kNN stratified and Naive Bayes stratified evaluators are too slow. "
   ]
  },
  {
   "cell_type": "code",
   "execution_count": 25,
   "id": "b552d161",
   "metadata": {},
   "outputs": [],
   "source": [
    "knn_matrix=knn_eval(train,test,majority_vote,3,'delay',['scheduled dep'], ['day','origin','dest','unique airline code'])"
   ]
  },
  {
   "cell_type": "code",
   "execution_count": 26,
   "id": "316f07d2",
   "metadata": {},
   "outputs": [
    {
     "name": "stdout",
     "output_type": "stream",
     "text": [
      "------  -----  --\n",
      "actual      0   1\n",
      "0       11438  99\n",
      "1        3171  36\n",
      "------  -----  --\n",
      "Predicted delay accuracy: 0.7782148670645687\n",
      "Predicted delay precision: 0.5248043443539371\n",
      "Predicted delay Recall: 0.5013221787014132\n",
      "Macro F measure: 0.5127945753124067\n"
     ]
    }
   ],
   "source": [
    "avg_acc = (accuracy(knn_matrix,0)+accuracy(knn_matrix,1))/2\n",
    "avg_prec = (precision(knn_matrix,0)+precision(knn_matrix,1))/2\n",
    "avg_recall = (recall(knn_matrix,0)+recall(knn_matrix,1))/2\n",
    "macrof = ((2*avg_prec*avg_recall)/(avg_prec+avg_recall))\n",
    "print(knn_matrix)\n",
    "print('Predicted delay accuracy: %s' %avg_acc)\n",
    "print('Predicted delay precision: %s' %avg_prec)\n",
    "print('Predicted delay Recall: %s' %avg_recall)\n",
    "print('Macro F measure: %s' %macrof)"
   ]
  },
  {
   "cell_type": "code",
   "execution_count": null,
   "id": "c4e2d3e2",
   "metadata": {},
   "outputs": [],
   "source": [
    "naive_matrix = naive_bayes_eval(train, test, 'delay', ['scheduled dep'], ['day','origin','dest','unique airline code'])"
   ]
  },
  {
   "cell_type": "code",
   "execution_count": null,
   "id": "4d3f43be",
   "metadata": {},
   "outputs": [],
   "source": [
    "avg_acc = (accuracy(naive_matrix,0)+accuracy(naive_matrix,1))/2\n",
    "avg_prec = (precision(naive_matrix,0)+precision(naive_matrix,1))/2\n",
    "avg_recall = (recall(naive_matrix,0)+recall(naive_matrix,1))/2\n",
    "macrof = ((2*avg_prec*avg_recall)/(avg_prec+avg_recall))\n",
    "print(naive_matrix)\n",
    "print('Predicted delay accuracy: %s' %avg_acc)\n",
    "print('Predicted delay precision: %s' %avg_prec)\n",
    "print('Predicted delay Recall: %s' %avg_recall)\n",
    "print('Macro F measure: %s' %macrof)"
   ]
  },
  {
   "cell_type": "markdown",
   "id": "5209963b",
   "metadata": {},
   "source": [
    "Of these two classifiers, their performance is about the same. "
   ]
  },
  {
   "cell_type": "markdown",
   "id": "002600d0",
   "metadata": {},
   "source": [
    "# Tailored Approach"
   ]
  },
  {
   "cell_type": "code",
   "execution_count": null,
   "id": "d72a49c3",
   "metadata": {},
   "outputs": [],
   "source": [
    "custom_matrix = imbalanced_knn_eval(train, test, 'delay', ['scheduled dep'], ['day', 'origin','dest','unique airline code'])"
   ]
  },
  {
   "cell_type": "markdown",
   "id": "e715c17a",
   "metadata": {},
   "source": [
    "# Conclusion"
   ]
  },
  {
   "cell_type": "markdown",
   "id": "54b8b743",
   "metadata": {},
   "source": [
    "With my project, I had some issues with classification due to efficiency issues. My kNN and Naive Bayes classifiers were very slow with my datasets and thus made it rather difficult to test different parameters as some runs would take upward of 30 minutes. Additionally, I had trouble in the last two weeks of the semester implementing a decision tree, mostly when it came to pruning and cleaning the trees. As such, I do not have a working decision tree classifier. \n",
    "\n",
    "On top of this, I was planning to also classify length of departure in addition to delay status. I did not have enough time to do this and it would be my next step. To do this I would discretize the delay length values and run my classifiers to predict a delay or not. For the instances where a delay is predicted, I would then predict delay length in binned intervals, likely binned by 15 minute intervals up to 180 minutes."
   ]
  }
 ],
 "metadata": {
  "kernelspec": {
   "display_name": "Python 3 (ipykernel)",
   "language": "python",
   "name": "python3"
  },
  "language_info": {
   "codemirror_mode": {
    "name": "ipython",
    "version": 3
   },
   "file_extension": ".py",
   "mimetype": "text/x-python",
   "name": "python",
   "nbconvert_exporter": "python",
   "pygments_lexer": "ipython3",
   "version": "3.11.4"
  }
 },
 "nbformat": 4,
 "nbformat_minor": 5
}
